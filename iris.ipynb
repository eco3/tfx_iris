{
 "cells": [
  {
   "cell_type": "code",
   "execution_count": 1,
   "metadata": {},
   "outputs": [],
   "source": [
    "try:\n",
    "    from tfx import v1 as tfx\n",
    "    \n",
    "    if tfx.__version__ != \"1.4.0\":\n",
    "        raise ModuleNotFoundError\n",
    "except ModuleNotFoundError:\n",
    "    !pip install tfx==1.4.0"
   ]
  },
  {
   "cell_type": "code",
   "execution_count": 4,
   "metadata": {
    "pycharm": {
     "name": "#%%\n"
    }
   },
   "outputs": [
    {
     "name": "stdout",
     "output_type": "stream",
     "text": [
      "The tfx.orchestration.experimental.interactive.notebook_extensions.skip extension is already loaded. To reload it, use:\n",
      "  %reload_ext tfx.orchestration.experimental.interactive.notebook_extensions.skip\n",
      "TFX version: 1.4.0\n",
      "TensorFlow version: 2.6.2\n"
     ]
    }
   ],
   "source": [
    "import tensorflow as tf\n",
    "\n",
    "from tfx.orchestration.experimental.interactive.interactive_context import InteractiveContext\n",
    "\n",
    "%load_ext tfx.orchestration.experimental.interactive.notebook_extensions.skip\n",
    "\n",
    "print('TFX version: {}'.format(tfx.__version__))\n",
    "print('TensorFlow version: {}'.format(tf.__version__))"
   ]
  },
  {
   "cell_type": "code",
   "execution_count": 5,
   "metadata": {
    "pycharm": {
     "name": "#%%\n"
    }
   },
   "outputs": [],
   "source": [
    "import os\n",
    "from absl import logging\n",
    "\n",
    "logging.set_verbosity(logging.INFO)\n",
    "\n",
    "PIPELINE_NAME = \"iris\"\n",
    "PIPELINE_ROOT = os.path.join('pipelines', PIPELINE_NAME)\n",
    "METADATA_PATH = os.path.join('metadata', PIPELINE_NAME, 'metadata.db')\n",
    "SERVING_MODEL_DIR = os.path.join('serving_model', PIPELINE_NAME)\n",
    "\n",
    "DATA_ROOT = os.path.join(\"data\")\n",
    "os.makedirs(DATA_ROOT, exist_ok=True)"
   ]
  },
  {
   "cell_type": "markdown",
   "metadata": {},
   "source": [
    "# Retrieve data"
   ]
  },
  {
   "cell_type": "code",
   "execution_count": 6,
   "metadata": {
    "pycharm": {
     "name": "#%%\n"
    }
   },
   "outputs": [
    {
     "name": "stdout",
     "output_type": "stream",
     "text": [
      "sepallength,sepalwidth,petallength,petalwidth,class\r",
      "\r\n",
      "5.1,3.5,1.4,0.2,Iris-setosa\r",
      "\r\n",
      "4.9,3.0,1.4,0.2,Iris-setosa\r",
      "\r\n",
      "4.7,3.2,1.3,0.2,Iris-setosa\r",
      "\r\n",
      "4.6,3.1,1.5,0.2,Iris-setosa\r",
      "\r\n",
      "5.0,3.6,1.4,0.2,Iris-setosa\r",
      "\r\n",
      "5.4,3.9,1.7,0.4,Iris-setosa\r",
      "\r\n",
      "4.6,3.4,1.4,0.3,Iris-setosa\r",
      "\r\n",
      "5.0,3.4,1.5,0.2,Iris-setosa\r",
      "\r\n",
      "4.4,2.9,1.4,0.2,Iris-setosa\r",
      "\r\n"
     ]
    }
   ],
   "source": [
    "import urllib.request\n",
    "\n",
    "_data_url = 'https://datahub.io/machine-learning/iris/r/iris.csv'\n",
    "_data_filepath = os.path.join(DATA_ROOT, \"data.csv\")\n",
    "\n",
    "urllib.request.urlretrieve(_data_url, _data_filepath)\n",
    "\n",
    "!head {_data_filepath}"
   ]
  },
  {
   "cell_type": "markdown",
   "metadata": {},
   "source": [
    "# Create TFX pipeline and run it"
   ]
  },
  {
   "cell_type": "code",
   "execution_count": 7,
   "metadata": {
    "pycharm": {
     "name": "#%%\n"
    }
   },
   "outputs": [],
   "source": [
    "_module_file = 'iris_utils.py'"
   ]
  },
  {
   "cell_type": "code",
   "execution_count": 8,
   "metadata": {
    "pycharm": {
     "name": "#%%\n"
    }
   },
   "outputs": [],
   "source": [
    "def _create_pipeline(pipeline_name: str, pipeline_root: str, data_root: str,\n",
    "                     module_file: str, serving_model_dir: str,\n",
    "                     metadata_path: str) -> tfx.dsl.Pipeline:\n",
    "    # Brings data into the pipeline or otherwise joins/converts training data.\n",
    "    example_gen = tfx.components.CsvExampleGen(\n",
    "        input_base=data_root)\n",
    "\n",
    "    # Computes statistics over data for visualization and example validation.\n",
    "    statistics_gen = tfx.components.StatisticsGen(\n",
    "        examples=example_gen.outputs['examples'])\n",
    "\n",
    "    # Generate a schema based on your data statistics.\n",
    "    # A schema defines the expected bounds, types, and properties of the features in your dataset.\n",
    "    schema_gen = tfx.components.SchemaGen(\n",
    "        statistics=statistics_gen.outputs['statistics'], infer_feature_shape=True)\n",
    "\n",
    "    # Performs anomaly detection based on statistics and data schema.\n",
    "    example_validator = tfx.components.ExampleValidator(\n",
    "        statistics=statistics_gen.outputs['statistics'],\n",
    "        schema=schema_gen.outputs['schema'])\n",
    "\n",
    "    # Transforms input data using preprocessing_fn in the 'module_file'.\n",
    "    transform = tfx.components.Transform(\n",
    "        examples=example_gen.outputs['examples'],\n",
    "        schema=schema_gen.outputs['schema'],\n",
    "        materialize=False,\n",
    "        module_file=module_file)\n",
    "\n",
    "    # Uses user-provided Python function that trains a model.\n",
    "    trainer = tfx.components.Trainer(\n",
    "        module_file=module_file,\n",
    "        examples=example_gen.outputs['examples'],\n",
    "        schema=schema_gen.outputs['schema'],\n",
    "        transform_graph=transform.outputs['transform_graph'],\n",
    "        train_args=tfx.proto.TrainArgs(num_steps=2000),\n",
    "        eval_args=tfx.proto.EvalArgs(num_steps=5))\n",
    "\n",
    "    # Pushes the model to a filesystem destination.\n",
    "    pusher = tfx.components.Pusher(\n",
    "        model=trainer.outputs['model'],\n",
    "        push_destination=tfx.proto.PushDestination(filesystem=tfx.proto.PushDestination\n",
    "                                                   .Filesystem(base_directory=serving_model_dir))\n",
    "    )\n",
    "\n",
    "    components = [\n",
    "        example_gen,\n",
    "        statistics_gen,\n",
    "        schema_gen,\n",
    "        example_validator,\n",
    "        transform,\n",
    "        trainer,\n",
    "        pusher,\n",
    "    ]\n",
    "\n",
    "    return tfx.dsl.Pipeline(\n",
    "        pipeline_name=pipeline_name,\n",
    "        pipeline_root=pipeline_root,\n",
    "        metadata_connection_config=tfx.orchestration.metadata.sqlite_metadata_connection_config(metadata_path),\n",
    "        components=components)"
   ]
  },
  {
   "cell_type": "code",
   "execution_count": 9,
   "metadata": {
    "pycharm": {
     "name": "#%%\n"
    }
   },
   "outputs": [
    {
     "name": "stdout",
     "output_type": "stream",
     "text": [
      "running bdist_wheel\n",
      "running build\n",
      "running build_py\n",
      "creating build\n",
      "creating build/lib\n",
      "copying iris_utils.py -> build/lib\n",
      "installing to /tmp/tmpma4kdwul\n",
      "running install\n",
      "running install_lib\n",
      "copying build/lib/iris_utils.py -> /tmp/tmpma4kdwul\n",
      "running install_egg_info\n",
      "running egg_info\n",
      "creating tfx_user_code_Transform.egg-info\n",
      "writing tfx_user_code_Transform.egg-info/PKG-INFO\n",
      "writing dependency_links to tfx_user_code_Transform.egg-info/dependency_links.txt\n",
      "writing top-level names to tfx_user_code_Transform.egg-info/top_level.txt\n",
      "writing manifest file 'tfx_user_code_Transform.egg-info/SOURCES.txt'\n",
      "reading manifest file 'tfx_user_code_Transform.egg-info/SOURCES.txt'\n",
      "writing manifest file 'tfx_user_code_Transform.egg-info/SOURCES.txt'\n",
      "Copying tfx_user_code_Transform.egg-info to /tmp/tmpma4kdwul/tfx_user_code_Transform-0.0+12d3fc749eb5335791029dbaf090874cd84509177f1f61319fac201421b132e7-py3.8.egg-info\n",
      "running install_scripts\n",
      "creating /tmp/tmpma4kdwul/tfx_user_code_Transform-0.0+12d3fc749eb5335791029dbaf090874cd84509177f1f61319fac201421b132e7.dist-info/WHEEL\n",
      "creating '/tmp/tmpglweade4/tfx_user_code_Transform-0.0+12d3fc749eb5335791029dbaf090874cd84509177f1f61319fac201421b132e7-py3-none-any.whl' and adding '/tmp/tmpma4kdwul' to it\n",
      "adding 'iris_utils.py'\n",
      "adding 'tfx_user_code_Transform-0.0+12d3fc749eb5335791029dbaf090874cd84509177f1f61319fac201421b132e7.dist-info/METADATA'\n",
      "adding 'tfx_user_code_Transform-0.0+12d3fc749eb5335791029dbaf090874cd84509177f1f61319fac201421b132e7.dist-info/WHEEL'\n",
      "adding 'tfx_user_code_Transform-0.0+12d3fc749eb5335791029dbaf090874cd84509177f1f61319fac201421b132e7.dist-info/top_level.txt'\n",
      "adding 'tfx_user_code_Transform-0.0+12d3fc749eb5335791029dbaf090874cd84509177f1f61319fac201421b132e7.dist-info/RECORD'\n",
      "removing /tmp/tmpma4kdwul\n"
     ]
    },
    {
     "name": "stderr",
     "output_type": "stream",
     "text": [
      "/home/ekrem/.pyenv/versions/3.8.7/envs/tfx-test/lib/python3.8/site-packages/setuptools/command/install.py:34: SetuptoolsDeprecationWarning: setup.py install is deprecated. Use build and pip and other standards-based tools.\n",
      "  warnings.warn(\n"
     ]
    },
    {
     "name": "stdout",
     "output_type": "stream",
     "text": [
      "running bdist_wheel\n",
      "running build\n",
      "running build_py\n",
      "creating build\n",
      "creating build/lib\n",
      "copying iris_utils.py -> build/lib\n",
      "installing to /tmp/tmp0osxlvzj\n",
      "running install\n",
      "running install_lib\n",
      "copying build/lib/iris_utils.py -> /tmp/tmp0osxlvzj\n",
      "running install_egg_info\n",
      "running egg_info\n",
      "creating tfx_user_code_Trainer.egg-info\n",
      "writing tfx_user_code_Trainer.egg-info/PKG-INFO\n",
      "writing dependency_links to tfx_user_code_Trainer.egg-info/dependency_links.txt\n",
      "writing top-level names to tfx_user_code_Trainer.egg-info/top_level.txt\n",
      "writing manifest file 'tfx_user_code_Trainer.egg-info/SOURCES.txt'\n",
      "reading manifest file 'tfx_user_code_Trainer.egg-info/SOURCES.txt'\n",
      "writing manifest file 'tfx_user_code_Trainer.egg-info/SOURCES.txt'\n",
      "Copying tfx_user_code_Trainer.egg-info to /tmp/tmp0osxlvzj/tfx_user_code_Trainer-0.0+12d3fc749eb5335791029dbaf090874cd84509177f1f61319fac201421b132e7-py3.8.egg-info\n",
      "running install_scripts\n",
      "creating /tmp/tmp0osxlvzj/tfx_user_code_Trainer-0.0+12d3fc749eb5335791029dbaf090874cd84509177f1f61319fac201421b132e7.dist-info/WHEEL\n",
      "creating '/tmp/tmp3bibdlyg/tfx_user_code_Trainer-0.0+12d3fc749eb5335791029dbaf090874cd84509177f1f61319fac201421b132e7-py3-none-any.whl' and adding '/tmp/tmp0osxlvzj' to it\n",
      "adding 'iris_utils.py'\n",
      "adding 'tfx_user_code_Trainer-0.0+12d3fc749eb5335791029dbaf090874cd84509177f1f61319fac201421b132e7.dist-info/METADATA'\n",
      "adding 'tfx_user_code_Trainer-0.0+12d3fc749eb5335791029dbaf090874cd84509177f1f61319fac201421b132e7.dist-info/WHEEL'\n",
      "adding 'tfx_user_code_Trainer-0.0+12d3fc749eb5335791029dbaf090874cd84509177f1f61319fac201421b132e7.dist-info/top_level.txt'\n",
      "adding 'tfx_user_code_Trainer-0.0+12d3fc749eb5335791029dbaf090874cd84509177f1f61319fac201421b132e7.dist-info/RECORD'\n",
      "removing /tmp/tmp0osxlvzj\n"
     ]
    },
    {
     "name": "stderr",
     "output_type": "stream",
     "text": [
      "/home/ekrem/.pyenv/versions/3.8.7/envs/tfx-test/lib/python3.8/site-packages/setuptools/command/install.py:34: SetuptoolsDeprecationWarning: setup.py install is deprecated. Use build and pip and other standards-based tools.\n",
      "  warnings.warn(\n",
      "WARNING: Logging before InitGoogleLogging() is written to STDERR\n",
      "I1117 11:06:11.575806 14100 rdbms_metadata_access_object.cc:686] No property is defined for the Type\n",
      "I1117 11:06:11.595890 14100 rdbms_metadata_access_object.cc:686] No property is defined for the Type\n",
      "I1117 11:06:11.615383 14100 rdbms_metadata_access_object.cc:686] No property is defined for the Type\n",
      "I1117 11:06:11.635632 14100 rdbms_metadata_access_object.cc:686] No property is defined for the Type\n",
      "I1117 11:06:11.676694 14100 rdbms_metadata_access_object.cc:686] No property is defined for the Type\n",
      "WARNING:apache_beam.runners.interactive.interactive_environment:Dependencies required for Interactive Beam PCollection visualization are not available, please use: `pip install apache-beam[interactive]` to install necessary dependencies to enable all data visualization features.\n"
     ]
    },
    {
     "data": {
      "application/javascript": [
       "\n",
       "        if (typeof window.interactive_beam_jquery == 'undefined') {\n",
       "          var jqueryScript = document.createElement('script');\n",
       "          jqueryScript.src = 'https://code.jquery.com/jquery-3.4.1.slim.min.js';\n",
       "          jqueryScript.type = 'text/javascript';\n",
       "          jqueryScript.onload = function() {\n",
       "            var datatableScript = document.createElement('script');\n",
       "            datatableScript.src = 'https://cdn.datatables.net/1.10.20/js/jquery.dataTables.min.js';\n",
       "            datatableScript.type = 'text/javascript';\n",
       "            datatableScript.onload = function() {\n",
       "              window.interactive_beam_jquery = jQuery.noConflict(true);\n",
       "              window.interactive_beam_jquery(document).ready(function($){\n",
       "                \n",
       "              });\n",
       "            }\n",
       "            document.head.appendChild(datatableScript);\n",
       "          };\n",
       "          document.head.appendChild(jqueryScript);\n",
       "        } else {\n",
       "          window.interactive_beam_jquery(document).ready(function($){\n",
       "            \n",
       "          });\n",
       "        }"
      ]
     },
     "metadata": {},
     "output_type": "display_data"
    },
    {
     "name": "stderr",
     "output_type": "stream",
     "text": [
      "WARNING:root:Make sure that locally built Python SDK docker image has Python 3.8 interpreter.\n",
      "WARNING:apache_beam.io.tfrecordio:Couldn't find python-snappy so the implementation of _TFRecordUtil._masked_crc32c is not as fast as it could be.\n",
      "I1117 11:06:12.700177 14100 rdbms_metadata_access_object.cc:686] No property is defined for the Type\n",
      "WARNING:root:Make sure that locally built Python SDK docker image has Python 3.8 interpreter.\n",
      "I1117 11:06:14.899238 14100 rdbms_metadata_access_object.cc:686] No property is defined for the Type\n",
      "I1117 11:06:14.938690 14100 rdbms_metadata_access_object.cc:686] No property is defined for the Type\n",
      "I1117 11:06:14.983157 14100 rdbms_metadata_access_object.cc:686] No property is defined for the Type\n",
      "I1117 11:06:15.136801 14100 rdbms_metadata_access_object.cc:686] No property is defined for the Type\n"
     ]
    },
    {
     "name": "stdout",
     "output_type": "stream",
     "text": [
      "Processing ./pipelines/iris/_wheels/tfx_user_code_Transform-0.0+12d3fc749eb5335791029dbaf090874cd84509177f1f61319fac201421b132e7-py3-none-any.whl\n",
      "Installing collected packages: tfx-user-code-Transform\n",
      "Successfully installed tfx-user-code-Transform-0.0+12d3fc749eb5335791029dbaf090874cd84509177f1f61319fac201421b132e7\n",
      "Processing ./pipelines/iris/_wheels/tfx_user_code_Transform-0.0+12d3fc749eb5335791029dbaf090874cd84509177f1f61319fac201421b132e7-py3-none-any.whl\n",
      "Installing collected packages: tfx-user-code-Transform\n",
      "Successfully installed tfx-user-code-Transform-0.0+12d3fc749eb5335791029dbaf090874cd84509177f1f61319fac201421b132e7\n",
      "Processing ./pipelines/iris/_wheels/tfx_user_code_Transform-0.0+12d3fc749eb5335791029dbaf090874cd84509177f1f61319fac201421b132e7-py3-none-any.whl\n",
      "Installing collected packages: tfx-user-code-Transform\n",
      "Successfully installed tfx-user-code-Transform-0.0+12d3fc749eb5335791029dbaf090874cd84509177f1f61319fac201421b132e7\n",
      "WARNING:tensorflow:From /home/ekrem/.pyenv/versions/3.8.7/envs/tfx-test/lib/python3.8/site-packages/tensorflow_transform/tf_utils.py:289: Tensor.experimental_ref (from tensorflow.python.framework.ops) is deprecated and will be removed in a future version.\n",
      "Instructions for updating:\n",
      "Use ref() instead.\n"
     ]
    },
    {
     "name": "stderr",
     "output_type": "stream",
     "text": [
      "2021-11-17 11:06:18.732832: I tensorflow/stream_executor/cuda/cuda_gpu_executor.cc:937] successful NUMA node read from SysFS had negative value (-1), but there must be at least one NUMA node, so returning NUMA node zero\n",
      "2021-11-17 11:06:18.745466: I tensorflow/stream_executor/cuda/cuda_gpu_executor.cc:937] successful NUMA node read from SysFS had negative value (-1), but there must be at least one NUMA node, so returning NUMA node zero\n",
      "2021-11-17 11:06:18.746425: I tensorflow/stream_executor/cuda/cuda_gpu_executor.cc:937] successful NUMA node read from SysFS had negative value (-1), but there must be at least one NUMA node, so returning NUMA node zero\n",
      "2021-11-17 11:06:18.747518: I tensorflow/core/platform/cpu_feature_guard.cc:142] This TensorFlow binary is optimized with oneAPI Deep Neural Network Library (oneDNN) to use the following CPU instructions in performance-critical operations:  AVX2 FMA\n",
      "To enable them in other operations, rebuild TensorFlow with the appropriate compiler flags.\n",
      "2021-11-17 11:06:18.749158: I tensorflow/stream_executor/cuda/cuda_gpu_executor.cc:937] successful NUMA node read from SysFS had negative value (-1), but there must be at least one NUMA node, so returning NUMA node zero\n",
      "2021-11-17 11:06:18.749680: I tensorflow/stream_executor/cuda/cuda_gpu_executor.cc:937] successful NUMA node read from SysFS had negative value (-1), but there must be at least one NUMA node, so returning NUMA node zero\n",
      "2021-11-17 11:06:18.750283: I tensorflow/stream_executor/cuda/cuda_gpu_executor.cc:937] successful NUMA node read from SysFS had negative value (-1), but there must be at least one NUMA node, so returning NUMA node zero\n",
      "2021-11-17 11:06:19.125380: I tensorflow/stream_executor/cuda/cuda_gpu_executor.cc:937] successful NUMA node read from SysFS had negative value (-1), but there must be at least one NUMA node, so returning NUMA node zero\n",
      "2021-11-17 11:06:19.125660: I tensorflow/stream_executor/cuda/cuda_gpu_executor.cc:937] successful NUMA node read from SysFS had negative value (-1), but there must be at least one NUMA node, so returning NUMA node zero\n",
      "2021-11-17 11:06:19.125906: I tensorflow/stream_executor/cuda/cuda_gpu_executor.cc:937] successful NUMA node read from SysFS had negative value (-1), but there must be at least one NUMA node, so returning NUMA node zero\n",
      "2021-11-17 11:06:19.126163: I tensorflow/core/common_runtime/gpu/gpu_device.cc:1510] Created device /job:localhost/replica:0/task:0/device:GPU:0 with 2281 MB memory:  -> device: 0, name: NVIDIA GeForce GTX 1650 Ti, pci bus id: 0000:01:00.0, compute capability: 7.5\n",
      "WARNING:tensorflow:From /home/ekrem/.pyenv/versions/3.8.7/envs/tfx-test/lib/python3.8/site-packages/tensorflow_transform/tf_utils.py:289: Tensor.experimental_ref (from tensorflow.python.framework.ops) is deprecated and will be removed in a future version.\n",
      "Instructions for updating:\n",
      "Use ref() instead.\n",
      "WARNING:root:This output type hint will be ignored and not used for type-checking purposes. Typically, output type hints for a PTransform are single (or nested) types wrapped by a PCollection, PDone, or None. Got: Tuple[Dict[str, Union[NoneType, _Dataset]], Union[Dict[str, Dict[str, PCollection]], NoneType], int] instead.\n",
      "WARNING:absl:Tables initialized inside a tf.function  will be re-initialized on every invocation of the function. This  re-initialization can have significant impact on performance. Consider lifting  them out of the graph context using  `tf.init_scope`.: key_value_init/LookupTableImportV2\n",
      "WARNING:absl:Tables initialized inside a tf.function  will be re-initialized on every invocation of the function. This  re-initialization can have significant impact on performance. Consider lifting  them out of the graph context using  `tf.init_scope`.: key_value_init/LookupTableImportV2\n",
      "WARNING:root:This output type hint will be ignored and not used for type-checking purposes. Typically, output type hints for a PTransform are single (or nested) types wrapped by a PCollection, PDone, or None. Got: Tuple[Dict[str, Union[NoneType, _Dataset]], Union[Dict[str, Dict[str, PCollection]], NoneType], int] instead.\n",
      "WARNING:absl:Tables initialized inside a tf.function  will be re-initialized on every invocation of the function. This  re-initialization can have significant impact on performance. Consider lifting  them out of the graph context using  `tf.init_scope`.: key_value_init/LookupTableImportV2\n",
      "WARNING:absl:Tables initialized inside a tf.function  will be re-initialized on every invocation of the function. This  re-initialization can have significant impact on performance. Consider lifting  them out of the graph context using  `tf.init_scope`.: key_value_init/LookupTableImportV2\n",
      "2021-11-17 11:06:20.168973: I tensorflow/compiler/mlir/mlir_graph_optimization_pass.cc:185] None of the MLIR Optimization Passes are enabled (registered 2)\n",
      "WARNING:root:Make sure that locally built Python SDK docker image has Python 3.8 interpreter.\n",
      "2021-11-17 11:06:23.244058: W tensorflow/python/util/util.cc:348] Sets are not currently considered sequences, but this may change in the future, so consider avoiding using them.\n"
     ]
    },
    {
     "name": "stdout",
     "output_type": "stream",
     "text": [
      "INFO:tensorflow:Assets written to: pipelines/iris/Transform/transform_graph/5/.temp_path/tftransform_tmp/3b357c41360f4c278f4662f5a8aad575/assets\n"
     ]
    },
    {
     "name": "stderr",
     "output_type": "stream",
     "text": [
      "INFO:tensorflow:Assets written to: pipelines/iris/Transform/transform_graph/5/.temp_path/tftransform_tmp/3b357c41360f4c278f4662f5a8aad575/assets\n",
      "WARNING:absl:Tables initialized inside a tf.function  will be re-initialized on every invocation of the function. This  re-initialization can have significant impact on performance. Consider lifting  them out of the graph context using  `tf.init_scope`.: key_value_init/LookupTableImportV2\n"
     ]
    },
    {
     "name": "stdout",
     "output_type": "stream",
     "text": [
      "INFO:tensorflow:tensorflow_text is not available.\n"
     ]
    },
    {
     "name": "stderr",
     "output_type": "stream",
     "text": [
      "INFO:tensorflow:tensorflow_text is not available.\n"
     ]
    },
    {
     "name": "stdout",
     "output_type": "stream",
     "text": [
      "INFO:tensorflow:tensorflow_decision_forests is not available.\n"
     ]
    },
    {
     "name": "stderr",
     "output_type": "stream",
     "text": [
      "INFO:tensorflow:tensorflow_decision_forests is not available.\n"
     ]
    },
    {
     "name": "stdout",
     "output_type": "stream",
     "text": [
      "INFO:tensorflow:struct2tensor is not available.\n"
     ]
    },
    {
     "name": "stderr",
     "output_type": "stream",
     "text": [
      "INFO:tensorflow:struct2tensor is not available.\n"
     ]
    },
    {
     "name": "stdout",
     "output_type": "stream",
     "text": [
      "INFO:tensorflow:Assets written to: pipelines/iris/Transform/transform_graph/5/.temp_path/tftransform_tmp/203ca96a2d7542bf95958a2af8e3dd6f/assets\n"
     ]
    },
    {
     "name": "stderr",
     "output_type": "stream",
     "text": [
      "INFO:tensorflow:Assets written to: pipelines/iris/Transform/transform_graph/5/.temp_path/tftransform_tmp/203ca96a2d7542bf95958a2af8e3dd6f/assets\n",
      "WARNING:absl:Tables initialized inside a tf.function  will be re-initialized on every invocation of the function. This  re-initialization can have significant impact on performance. Consider lifting  them out of the graph context using  `tf.init_scope`.: key_value_init/LookupTableImportV2\n"
     ]
    },
    {
     "name": "stdout",
     "output_type": "stream",
     "text": [
      "INFO:tensorflow:tensorflow_text is not available.\n"
     ]
    },
    {
     "name": "stderr",
     "output_type": "stream",
     "text": [
      "INFO:tensorflow:tensorflow_text is not available.\n"
     ]
    },
    {
     "name": "stdout",
     "output_type": "stream",
     "text": [
      "INFO:tensorflow:tensorflow_decision_forests is not available.\n"
     ]
    },
    {
     "name": "stderr",
     "output_type": "stream",
     "text": [
      "INFO:tensorflow:tensorflow_decision_forests is not available.\n"
     ]
    },
    {
     "name": "stdout",
     "output_type": "stream",
     "text": [
      "INFO:tensorflow:struct2tensor is not available.\n"
     ]
    },
    {
     "name": "stderr",
     "output_type": "stream",
     "text": [
      "INFO:tensorflow:struct2tensor is not available.\n"
     ]
    },
    {
     "name": "stdout",
     "output_type": "stream",
     "text": [
      "INFO:tensorflow:tensorflow_text is not available.\n"
     ]
    },
    {
     "name": "stderr",
     "output_type": "stream",
     "text": [
      "INFO:tensorflow:tensorflow_text is not available.\n"
     ]
    },
    {
     "name": "stdout",
     "output_type": "stream",
     "text": [
      "INFO:tensorflow:tensorflow_decision_forests is not available.\n"
     ]
    },
    {
     "name": "stderr",
     "output_type": "stream",
     "text": [
      "INFO:tensorflow:tensorflow_decision_forests is not available.\n"
     ]
    },
    {
     "name": "stdout",
     "output_type": "stream",
     "text": [
      "INFO:tensorflow:struct2tensor is not available.\n"
     ]
    },
    {
     "name": "stderr",
     "output_type": "stream",
     "text": [
      "INFO:tensorflow:struct2tensor is not available.\n",
      "I1117 11:06:26.897055 14100 rdbms_metadata_access_object.cc:686] No property is defined for the Type\n",
      "I1117 11:06:26.924156 14100 rdbms_metadata_access_object.cc:686] No property is defined for the Type\n",
      "I1117 11:06:26.968791 14100 rdbms_metadata_access_object.cc:686] No property is defined for the Type\n"
     ]
    },
    {
     "name": "stdout",
     "output_type": "stream",
     "text": [
      "Processing ./pipelines/iris/_wheels/tfx_user_code_Trainer-0.0+12d3fc749eb5335791029dbaf090874cd84509177f1f61319fac201421b132e7-py3-none-any.whl\n",
      "Installing collected packages: tfx-user-code-Trainer\n",
      "Successfully installed tfx-user-code-Trainer-0.0+12d3fc749eb5335791029dbaf090874cd84509177f1f61319fac201421b132e7\n",
      "INFO:tensorflow:tensorflow_text is not available.\n"
     ]
    },
    {
     "name": "stderr",
     "output_type": "stream",
     "text": [
      "INFO:tensorflow:tensorflow_text is not available.\n"
     ]
    },
    {
     "name": "stdout",
     "output_type": "stream",
     "text": [
      "INFO:tensorflow:tensorflow_decision_forests is not available.\n"
     ]
    },
    {
     "name": "stderr",
     "output_type": "stream",
     "text": [
      "INFO:tensorflow:tensorflow_decision_forests is not available.\n"
     ]
    },
    {
     "name": "stdout",
     "output_type": "stream",
     "text": [
      "INFO:tensorflow:struct2tensor is not available.\n"
     ]
    },
    {
     "name": "stderr",
     "output_type": "stream",
     "text": [
      "INFO:tensorflow:struct2tensor is not available.\n",
      "2021-11-17 11:06:29.049883: I tensorflow/core/profiler/lib/profiler_session.cc:131] Profiler session initializing.\n",
      "2021-11-17 11:06:29.049927: I tensorflow/core/profiler/lib/profiler_session.cc:146] Profiler session started.\n",
      "2021-11-17 11:06:29.049948: I tensorflow/core/profiler/internal/gpu/cupti_tracer.cc:1614] Profiler found 1 GPUs\n",
      "2021-11-17 11:06:29.303451: I tensorflow/core/profiler/lib/profiler_session.cc:164] Profiler session tear down.\n",
      "2021-11-17 11:06:29.305120: I tensorflow/core/profiler/internal/gpu/cupti_tracer.cc:1748] CUPTI activity buffer flushed\n"
     ]
    },
    {
     "name": "stdout",
     "output_type": "stream",
     "text": [
      "\r",
      "   1/2000 [..............................] - ETA: 23:04 - loss: 1.1805 - sparse_categorical_accuracy: 0.3500"
     ]
    },
    {
     "name": "stderr",
     "output_type": "stream",
     "text": [
      "2021-11-17 11:06:30.099749: I tensorflow/core/profiler/lib/profiler_session.cc:131] Profiler session initializing.\n",
      "2021-11-17 11:06:30.099792: I tensorflow/core/profiler/lib/profiler_session.cc:146] Profiler session started.\n"
     ]
    },
    {
     "name": "stdout",
     "output_type": "stream",
     "text": [
      "  37/2000 [..............................] - ETA: 24s - loss: 0.6431 - sparse_categorical_accuracy: 0.7270"
     ]
    },
    {
     "name": "stderr",
     "output_type": "stream",
     "text": [
      "2021-11-17 11:06:30.378906: I tensorflow/core/profiler/lib/profiler_session.cc:66] Profiler session collecting data.\n",
      "2021-11-17 11:06:30.379857: I tensorflow/core/profiler/internal/gpu/cupti_tracer.cc:1748] CUPTI activity buffer flushed\n",
      "2021-11-17 11:06:30.401350: I tensorflow/core/profiler/internal/gpu/cupti_collector.cc:673]  GpuTracer has collected 86 callback api events and 83 activity events. \n",
      "2021-11-17 11:06:30.403387: I tensorflow/core/profiler/lib/profiler_session.cc:164] Profiler session tear down.\n",
      "2021-11-17 11:06:30.406448: I tensorflow/core/profiler/rpc/client/save_profile.cc:136] Creating directory: pipelines/iris/Trainer/model_run/6/train/plugins/profile/2021_11_17_11_06_30\n",
      "\n",
      "2021-11-17 11:06:30.408397: I tensorflow/core/profiler/rpc/client/save_profile.cc:142] Dumped gzipped tool data for trace.json.gz to pipelines/iris/Trainer/model_run/6/train/plugins/profile/2021_11_17_11_06_30/EkE-Legion5.trace.json.gz\n",
      "2021-11-17 11:06:30.412833: I tensorflow/core/profiler/rpc/client/save_profile.cc:136] Creating directory: pipelines/iris/Trainer/model_run/6/train/plugins/profile/2021_11_17_11_06_30\n",
      "\n",
      "2021-11-17 11:06:30.413333: I tensorflow/core/profiler/rpc/client/save_profile.cc:142] Dumped gzipped tool data for memory_profile.json.gz to pipelines/iris/Trainer/model_run/6/train/plugins/profile/2021_11_17_11_06_30/EkE-Legion5.memory_profile.json.gz\n",
      "2021-11-17 11:06:30.413643: I tensorflow/core/profiler/rpc/client/capture_profile.cc:251] Creating directory: pipelines/iris/Trainer/model_run/6/train/plugins/profile/2021_11_17_11_06_30\n",
      "Dumped tool data for xplane.pb to pipelines/iris/Trainer/model_run/6/train/plugins/profile/2021_11_17_11_06_30/EkE-Legion5.xplane.pb\n",
      "Dumped tool data for overview_page.pb to pipelines/iris/Trainer/model_run/6/train/plugins/profile/2021_11_17_11_06_30/EkE-Legion5.overview_page.pb\n",
      "Dumped tool data for input_pipeline.pb to pipelines/iris/Trainer/model_run/6/train/plugins/profile/2021_11_17_11_06_30/EkE-Legion5.input_pipeline.pb\n",
      "Dumped tool data for tensorflow_stats.pb to pipelines/iris/Trainer/model_run/6/train/plugins/profile/2021_11_17_11_06_30/EkE-Legion5.tensorflow_stats.pb\n",
      "Dumped tool data for kernel_stats.pb to pipelines/iris/Trainer/model_run/6/train/plugins/profile/2021_11_17_11_06_30/EkE-Legion5.kernel_stats.pb\n",
      "\n"
     ]
    },
    {
     "name": "stdout",
     "output_type": "stream",
     "text": [
      "2000/2000 [==============================] - 8s 4ms/step - loss: 0.0192 - sparse_categorical_accuracy: 0.9926 - val_loss: 1.1704 - val_sparse_categorical_accuracy: 0.9400\n",
      "INFO:tensorflow:Assets written to: pipelines/iris/Trainer/model/6/Format-Serving/assets\n"
     ]
    },
    {
     "name": "stderr",
     "output_type": "stream",
     "text": [
      "INFO:tensorflow:Assets written to: pipelines/iris/Trainer/model/6/Format-Serving/assets\n",
      "I1117 11:06:38.235312 14100 rdbms_metadata_access_object.cc:686] No property is defined for the Type\n",
      "I1117 11:06:38.244904 14100 rdbms_metadata_access_object.cc:686] No property is defined for the Type\n",
      "I1117 11:06:38.283003 14100 rdbms_metadata_access_object.cc:686] No property is defined for the Type\n",
      "WARNING:absl:Pusher is going to push the model without validation. Consider using Evaluator or InfraValidator in your pipeline.\n",
      "I1117 11:06:38.331022 14100 rdbms_metadata_access_object.cc:686] No property is defined for the Type\n"
     ]
    }
   ],
   "source": [
    "pipeline = _create_pipeline(\n",
    "    pipeline_name=PIPELINE_NAME,\n",
    "    pipeline_root=PIPELINE_ROOT,\n",
    "    data_root=DATA_ROOT,\n",
    "    module_file=_module_file,\n",
    "    serving_model_dir=SERVING_MODEL_DIR,\n",
    "    metadata_path=METADATA_PATH\n",
    ")\n",
    "\n",
    "tfx.orchestration.LocalDagRunner().run(pipeline)"
   ]
  },
  {
   "cell_type": "markdown",
   "metadata": {},
   "source": [
    "# Visualize pipeline"
   ]
  },
  {
   "cell_type": "code",
   "execution_count": 12,
   "metadata": {},
   "outputs": [],
   "source": [
    "from tfx.orchestration.portable.mlmd import execution_lib\n",
    "from tfx.orchestration.metadata import Metadata\n",
    "from tfx.orchestration.experimental.interactive import visualizations\n",
    "from ml_metadata.proto import metadata_store_pb2\n",
    "\n",
    "\n",
    "def get_latest_artifact(component_id):\n",
    "    metadata_connection_config = tfx.orchestration.metadata.sqlite_metadata_connection_config(METADATA_PATH)\n",
    "\n",
    "    with Metadata(metadata_connection_config) as metadata_handler:\n",
    "        context = metadata_handler.store.get_context_by_type_and_name('node', f'{PIPELINE_NAME}.{component_id}')\n",
    "        executions = metadata_handler.store.get_executions_by_context(context.id)\n",
    "        latest_execution = max(executions, key=lambda e: e.last_update_time_since_epoch)\n",
    "\n",
    "        return execution_lib.get_artifacts_dict(metadata_handler, latest_execution.id, [metadata_store_pb2.Event.OUTPUT])\n",
    "\n",
    "\n",
    "def visualize(artifact):\n",
    "    visualization = visualizations.get_registry().get_visualization(artifact.type_name)\n",
    "    visualization.display(artifact)\n",
    "\n",
    "\n",
    "from tfx.orchestration.experimental.interactive import standard_visualizations\n",
    "\n",
    "standard_visualizations.register_standard_visualizations()"
   ]
  },
  {
   "cell_type": "markdown",
   "metadata": {},
   "source": [
    "## StatisticsGen"
   ]
  },
  {
   "cell_type": "code",
   "execution_count": 13,
   "metadata": {},
   "outputs": [
    {
     "data": {
      "text/html": [
       "<div><b>'train' split:</b></div><br/>"
      ],
      "text/plain": [
       "<IPython.core.display.HTML object>"
      ]
     },
     "metadata": {},
     "output_type": "display_data"
    },
    {
     "data": {
      "text/html": [
       "<iframe id='facets-iframe' width=\"100%\" height=\"500px\"></iframe>\n",
       "        <script>\n",
       "        facets_iframe = document.getElementById('facets-iframe');\n",
       "        facets_html = '<script src=\"https://cdnjs.cloudflare.com/ajax/libs/webcomponentsjs/1.3.3/webcomponents-lite.js\"><\\/script><link rel=\"import\" href=\"https://raw.githubusercontent.com/PAIR-code/facets/master/facets-dist/facets-jupyter.html\"><facets-overview proto-input=\"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\"></facets-overview>';\n",
       "        facets_iframe.srcdoc = facets_html;\n",
       "         facets_iframe.id = \"\";\n",
       "         setTimeout(() => {\n",
       "           facets_iframe.setAttribute('height', facets_iframe.contentWindow.document.body.offsetHeight + 'px')\n",
       "         }, 1500)\n",
       "         </script>"
      ],
      "text/plain": [
       "<IPython.core.display.HTML object>"
      ]
     },
     "metadata": {},
     "output_type": "display_data"
    },
    {
     "data": {
      "text/html": [
       "<div><b>'eval' split:</b></div><br/>"
      ],
      "text/plain": [
       "<IPython.core.display.HTML object>"
      ]
     },
     "metadata": {},
     "output_type": "display_data"
    },
    {
     "data": {
      "text/html": [
       "<iframe id='facets-iframe' width=\"100%\" height=\"500px\"></iframe>\n",
       "        <script>\n",
       "        facets_iframe = document.getElementById('facets-iframe');\n",
       "        facets_html = '<script src=\"https://cdnjs.cloudflare.com/ajax/libs/webcomponentsjs/1.3.3/webcomponents-lite.js\"><\\/script><link rel=\"import\" href=\"https://raw.githubusercontent.com/PAIR-code/facets/master/facets-dist/facets-jupyter.html\"><facets-overview proto-input=\"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\"></facets-overview>';\n",
       "        facets_iframe.srcdoc = facets_html;\n",
       "         facets_iframe.id = \"\";\n",
       "         setTimeout(() => {\n",
       "           facets_iframe.setAttribute('height', facets_iframe.contentWindow.document.body.offsetHeight + 'px')\n",
       "         }, 1500)\n",
       "         </script>"
      ],
      "text/plain": [
       "<IPython.core.display.HTML object>"
      ]
     },
     "metadata": {},
     "output_type": "display_data"
    }
   ],
   "source": [
    "statistic_artifact = get_latest_artifact(\"StatisticsGen\")['statistics'][0]\n",
    "\n",
    "visualize(statistic_artifact)"
   ]
  },
  {
   "cell_type": "markdown",
   "metadata": {},
   "source": [
    "## SchemaGen"
   ]
  },
  {
   "cell_type": "code",
   "execution_count": 14,
   "metadata": {
    "scrolled": true
   },
   "outputs": [
    {
     "data": {
      "text/html": [
       "<div>\n",
       "<style scoped>\n",
       "    .dataframe tbody tr th:only-of-type {\n",
       "        vertical-align: middle;\n",
       "    }\n",
       "\n",
       "    .dataframe tbody tr th {\n",
       "        vertical-align: top;\n",
       "    }\n",
       "\n",
       "    .dataframe thead th {\n",
       "        text-align: right;\n",
       "    }\n",
       "</style>\n",
       "<table border=\"1\" class=\"dataframe\">\n",
       "  <thead>\n",
       "    <tr style=\"text-align: right;\">\n",
       "      <th></th>\n",
       "      <th>Type</th>\n",
       "      <th>Presence</th>\n",
       "      <th>Valency</th>\n",
       "      <th>Domain</th>\n",
       "    </tr>\n",
       "    <tr>\n",
       "      <th>Feature name</th>\n",
       "      <th></th>\n",
       "      <th></th>\n",
       "      <th></th>\n",
       "      <th></th>\n",
       "    </tr>\n",
       "  </thead>\n",
       "  <tbody>\n",
       "    <tr>\n",
       "      <th>'class'</th>\n",
       "      <td>STRING</td>\n",
       "      <td>required</td>\n",
       "      <td></td>\n",
       "      <td>'class'</td>\n",
       "    </tr>\n",
       "    <tr>\n",
       "      <th>'petallength'</th>\n",
       "      <td>FLOAT</td>\n",
       "      <td>required</td>\n",
       "      <td></td>\n",
       "      <td>-</td>\n",
       "    </tr>\n",
       "    <tr>\n",
       "      <th>'petalwidth'</th>\n",
       "      <td>FLOAT</td>\n",
       "      <td>required</td>\n",
       "      <td></td>\n",
       "      <td>-</td>\n",
       "    </tr>\n",
       "    <tr>\n",
       "      <th>'sepallength'</th>\n",
       "      <td>FLOAT</td>\n",
       "      <td>required</td>\n",
       "      <td></td>\n",
       "      <td>-</td>\n",
       "    </tr>\n",
       "    <tr>\n",
       "      <th>'sepalwidth'</th>\n",
       "      <td>FLOAT</td>\n",
       "      <td>required</td>\n",
       "      <td></td>\n",
       "      <td>-</td>\n",
       "    </tr>\n",
       "  </tbody>\n",
       "</table>\n",
       "</div>"
      ],
      "text/plain": [
       "                 Type  Presence Valency   Domain\n",
       "Feature name                                    \n",
       "'class'        STRING  required          'class'\n",
       "'petallength'   FLOAT  required                -\n",
       "'petalwidth'    FLOAT  required                -\n",
       "'sepallength'   FLOAT  required                -\n",
       "'sepalwidth'    FLOAT  required                -"
      ]
     },
     "metadata": {},
     "output_type": "display_data"
    },
    {
     "data": {
      "text/html": [
       "<div>\n",
       "<style scoped>\n",
       "    .dataframe tbody tr th:only-of-type {\n",
       "        vertical-align: middle;\n",
       "    }\n",
       "\n",
       "    .dataframe tbody tr th {\n",
       "        vertical-align: top;\n",
       "    }\n",
       "\n",
       "    .dataframe thead th {\n",
       "        text-align: right;\n",
       "    }\n",
       "</style>\n",
       "<table border=\"1\" class=\"dataframe\">\n",
       "  <thead>\n",
       "    <tr style=\"text-align: right;\">\n",
       "      <th></th>\n",
       "      <th>Values</th>\n",
       "    </tr>\n",
       "    <tr>\n",
       "      <th>Domain</th>\n",
       "      <th></th>\n",
       "    </tr>\n",
       "  </thead>\n",
       "  <tbody>\n",
       "    <tr>\n",
       "      <th>'class'</th>\n",
       "      <td>'Iris-setosa', 'Iris-versicolor', 'Iris-virginica'</td>\n",
       "    </tr>\n",
       "  </tbody>\n",
       "</table>\n",
       "</div>"
      ],
      "text/plain": [
       "                                                     Values\n",
       "Domain                                                     \n",
       "'class'  'Iris-setosa', 'Iris-versicolor', 'Iris-virginica'"
      ]
     },
     "metadata": {},
     "output_type": "display_data"
    }
   ],
   "source": [
    "schema_artifact = get_latest_artifact(\"SchemaGen\")['schema'][0]\n",
    "\n",
    "visualize(schema_artifact)"
   ]
  },
  {
   "cell_type": "markdown",
   "metadata": {},
   "source": [
    "## ExampleValidator"
   ]
  },
  {
   "cell_type": "code",
   "execution_count": 15,
   "metadata": {},
   "outputs": [
    {
     "data": {
      "text/html": [
       "<div><b>'train' split:</b></div><br/>"
      ],
      "text/plain": [
       "<IPython.core.display.HTML object>"
      ]
     },
     "metadata": {},
     "output_type": "display_data"
    },
    {
     "data": {
      "text/html": [
       "<h4 style=\"color:green;\">No anomalies found.</h4>"
      ],
      "text/plain": [
       "<IPython.core.display.HTML object>"
      ]
     },
     "metadata": {},
     "output_type": "display_data"
    },
    {
     "data": {
      "text/html": [
       "<div><b>'eval' split:</b></div><br/>"
      ],
      "text/plain": [
       "<IPython.core.display.HTML object>"
      ]
     },
     "metadata": {},
     "output_type": "display_data"
    },
    {
     "data": {
      "text/html": [
       "<h4 style=\"color:green;\">No anomalies found.</h4>"
      ],
      "text/plain": [
       "<IPython.core.display.HTML object>"
      ]
     },
     "metadata": {},
     "output_type": "display_data"
    }
   ],
   "source": [
    "example_validator_articaft = get_latest_artifact(\"ExampleValidator\")['anomalies'][0]\n",
    "\n",
    "visualize(example_validator_articaft)"
   ]
  },
  {
   "cell_type": "markdown",
   "metadata": {},
   "source": [
    "## Transformer"
   ]
  },
  {
   "cell_type": "code",
   "execution_count": 16,
   "metadata": {},
   "outputs": [],
   "source": [
    "# TODO"
   ]
  },
  {
   "cell_type": "markdown",
   "metadata": {},
   "source": [
    "## Trainer"
   ]
  },
  {
   "cell_type": "code",
   "execution_count": 17,
   "metadata": {},
   "outputs": [
    {
     "data": {
      "text/html": [
       "\n",
       "      <iframe id=\"tensorboard-frame-58219ab8440c57b4\" width=\"100%\" height=\"800\" frameborder=\"0\">\n",
       "      </iframe>\n",
       "      <script>\n",
       "        (function() {\n",
       "          const frame = document.getElementById(\"tensorboard-frame-58219ab8440c57b4\");\n",
       "          const url = new URL(\"/\", window.location);\n",
       "          const port = 6006;\n",
       "          if (port) {\n",
       "            url.port = port;\n",
       "          }\n",
       "          frame.src = url;\n",
       "        })();\n",
       "      </script>\n",
       "    "
      ],
      "text/plain": [
       "<IPython.core.display.HTML object>"
      ]
     },
     "metadata": {},
     "output_type": "display_data"
    }
   ],
   "source": [
    "model_run_artifact_dir = get_latest_artifact(\"Trainer\")['model_run'][0].uri\n",
    "\n",
    "%load_ext tensorboard\n",
    "%tensorboard --logdir {model_run_artifact_dir}"
   ]
  },
  {
   "cell_type": "code",
   "execution_count": null,
   "metadata": {},
   "outputs": [],
   "source": []
  }
 ],
 "metadata": {
  "kernelspec": {
   "display_name": "Python 3 (ipykernel)",
   "language": "python",
   "name": "python3"
  },
  "language_info": {
   "codemirror_mode": {
    "name": "ipython",
    "version": 3
   },
   "file_extension": ".py",
   "mimetype": "text/x-python",
   "name": "python",
   "nbconvert_exporter": "python",
   "pygments_lexer": "ipython3",
   "version": "3.8.7"
  }
 },
 "nbformat": 4,
 "nbformat_minor": 1
}